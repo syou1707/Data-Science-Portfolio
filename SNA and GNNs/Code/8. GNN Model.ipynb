{
 "cells": [
  {
   "cell_type": "markdown",
   "id": "e0a74897",
   "metadata": {},
   "source": [
    "# 8. GNN Model"
   ]
  },
  {
   "cell_type": "code",
   "execution_count": 1,
   "id": "6cc1ec12",
   "metadata": {},
   "outputs": [],
   "source": [
    "import pandas as pd\n",
    "import numpy as np\n",
    "import matplotlib.pyplot as plt\n",
    "\n",
    "import dgl\n",
    "import dgl.nn as dglnn\n",
    "from dgl.data.utils import load_graphs\n",
    "\n",
    "import torch\n",
    "import torch.nn as nn\n",
    "import torch.nn.functional as F\n",
    "from dgl.nn import SAGEConv\n",
    "\n",
    "from sklearn.preprocessing import StandardScaler"
   ]
  },
  {
   "cell_type": "markdown",
   "id": "6c8a5b95",
   "metadata": {},
   "source": [
    "# Load Customers Graph"
   ]
  },
  {
   "cell_type": "code",
   "execution_count": 2,
   "id": "d12d45ed",
   "metadata": {
    "scrolled": false
   },
   "outputs": [
    {
     "data": {
      "text/plain": [
       "Graph(num_nodes={'customer': 126183, 'external': 69875},\n",
       "      num_edges={('customer', 'cc_self', 'customer'): 126183, ('customer', 'cec', 'customer'): 122064, ('customer', 'cee', 'external'): 73545, ('customer', 'cwc', 'customer'): 14668, ('customer', 'cwe', 'external'): 12780, ('external', 'ee_self', 'external'): 69875, ('external', 'eec', 'customer'): 123291, ('external', 'ewc', 'customer'): 20844},\n",
       "      metagraph=[('customer', 'customer', 'cc_self'), ('customer', 'customer', 'cec'), ('customer', 'customer', 'cwc'), ('customer', 'external', 'cee'), ('customer', 'external', 'cwe'), ('external', 'external', 'ee_self'), ('external', 'customer', 'eec'), ('external', 'customer', 'ewc')])"
      ]
     },
     "execution_count": 2,
     "metadata": {},
     "output_type": "execute_result"
    }
   ],
   "source": [
    "g = load_graphs('customers_graph')[0][0]\n",
    "g"
   ]
  },
  {
   "cell_type": "code",
   "execution_count": 3,
   "id": "046dd742",
   "metadata": {
    "scrolled": false
   },
   "outputs": [
    {
     "data": {
      "text/plain": [
       "['customer', 'external']"
      ]
     },
     "execution_count": 3,
     "metadata": {},
     "output_type": "execute_result"
    }
   ],
   "source": [
    "g.ntypes"
   ]
  },
  {
   "cell_type": "code",
   "execution_count": 4,
   "id": "fb4160be",
   "metadata": {
    "scrolled": true
   },
   "outputs": [
    {
     "data": {
      "text/plain": [
       "['cc_self', 'cec', 'cee', 'cwc', 'cwe', 'ee_self', 'eec', 'ewc']"
      ]
     },
     "execution_count": 4,
     "metadata": {},
     "output_type": "execute_result"
    }
   ],
   "source": [
    "g.etypes"
   ]
  },
  {
   "cell_type": "code",
   "execution_count": 5,
   "id": "52802fe1",
   "metadata": {
    "scrolled": false
   },
   "outputs": [
    {
     "data": {
      "text/plain": [
       "[('customer', 'cc_self', 'customer'),\n",
       " ('customer', 'cec', 'customer'),\n",
       " ('customer', 'cee', 'external'),\n",
       " ('customer', 'cwc', 'customer'),\n",
       " ('customer', 'cwe', 'external'),\n",
       " ('external', 'ee_self', 'external'),\n",
       " ('external', 'eec', 'customer'),\n",
       " ('external', 'ewc', 'customer')]"
      ]
     },
     "execution_count": 5,
     "metadata": {},
     "output_type": "execute_result"
    }
   ],
   "source": [
    "g.canonical_etypes"
   ]
  },
  {
   "cell_type": "code",
   "execution_count": 6,
   "id": "4d9bb3c4",
   "metadata": {
    "scrolled": true
   },
   "outputs": [
    {
     "data": {
      "text/plain": [
       "196058"
      ]
     },
     "execution_count": 6,
     "metadata": {},
     "output_type": "execute_result"
    }
   ],
   "source": [
    "g.num_nodes()"
   ]
  },
  {
   "cell_type": "code",
   "execution_count": 7,
   "id": "655130d0",
   "metadata": {
    "scrolled": true
   },
   "outputs": [
    {
     "data": {
      "text/plain": [
       "563250"
      ]
     },
     "execution_count": 7,
     "metadata": {},
     "output_type": "execute_result"
    }
   ],
   "source": [
    "g.num_edges()"
   ]
  },
  {
   "cell_type": "markdown",
   "id": "cdd19785",
   "metadata": {},
   "source": [
    "# Build RGCN"
   ]
  },
  {
   "cell_type": "markdown",
   "id": "09cf9f62",
   "metadata": {},
   "source": [
    "We will now build a GNN to produce embeddings for each node so that we can cluster the nodes into communities. By doing so, we can then detect communities or find subgraphs from the customers graph."
   ]
  },
  {
   "cell_type": "markdown",
   "id": "951fb30b",
   "metadata": {},
   "source": [
    "### Define HeteroGNN"
   ]
  },
  {
   "cell_type": "code",
   "execution_count": 8,
   "id": "7354ccf4",
   "metadata": {},
   "outputs": [],
   "source": [
    "class HeteroGNN(nn.Module):\n",
    "    def __init__(self, g, in_dim, common_dim, out_dim, agg_type):\n",
    "        super(HeteroGNN, self).__init__()\n",
    "        self.g = g\n",
    "        self.in_dims = in_dim\n",
    "        self.common_dim = common_dim\n",
    "        self.out_dim = out_dim\n",
    "        self.agg_type = agg_type\n",
    "        \n",
    "        # Transform node features to common dimension for each node type\n",
    "        self.node_transforms = nn.ModuleDict({\n",
    "            ntype: nn.Linear(feat_dim, out_dim) for ntype, feat_dim in in_dim.items()\n",
    "        })\n",
    "     \n",
    "        # Add 2 GNN layers --> HGConv Layers with SAGEConv\n",
    "        self.gnn_layers = nn.ModuleList([\n",
    "            dglnn.HeteroGraphConv({\n",
    "                etype: dglnn.SAGEConv(common_dim, common_dim, agg_type, feat_drop=0.1)\n",
    "                for etype in g.etypes\n",
    "            }, aggregate='sum')\n",
    "            for _ in range(2)\n",
    "        ])\n",
    "        \n",
    "        # Output layer for each node type\n",
    "        self.output_layers = nn.ModuleDict({\n",
    "            ntype: nn.Linear(common_dim, out_dim) for ntype in g.ntypes\n",
    "        })\n",
    "    \n",
    "    def forward(self, g, node_fts):\n",
    "        t_nfeats = {}\n",
    "        \n",
    "        # Transform node features\n",
    "        for ntype, features in node_fts.items():\n",
    "            if ntype in self.node_transforms:\n",
    "                t_nfeats[ntype] = self.node_transforms[ntype](features)\n",
    "        \n",
    "        h = t_nfeats\n",
    "        \n",
    "        # Apply GNN layers\n",
    "        for gnn_layer in self.gnn_layers:\n",
    "            h = gnn_layer(g, h)\n",
    "        \n",
    "        # Apply output layers\n",
    "        return {ntype: self.output_layers[ntype](h[ntype]) for ntype in self.g.ntypes}"
   ]
  },
  {
   "cell_type": "markdown",
   "id": "62ea9bd4",
   "metadata": {},
   "source": [
    "# Optimization using Attribute Masking"
   ]
  },
  {
   "cell_type": "code",
   "execution_count": 9,
   "id": "8a35285a",
   "metadata": {},
   "outputs": [],
   "source": [
    "def create_node_mask(num_nodes, mask_ratio):\n",
    "    # Randomly generate a mask with the given ratio\n",
    "    mask = torch.rand(num_nodes) < mask_ratio\n",
    "    return mask"
   ]
  },
  {
   "cell_type": "code",
   "execution_count": 10,
   "id": "fe2e44d0",
   "metadata": {},
   "outputs": [],
   "source": [
    "def mask_node_features(features, mask):\n",
    "    # Clone to avoid modifying the original features\n",
    "    masked_features = features.clone()  \n",
    "    \n",
    "    # Set all features of masked nodes to zero\n",
    "    masked_features[mask] = 0 \n",
    "    return masked_features"
   ]
  },
  {
   "cell_type": "code",
   "execution_count": 11,
   "id": "03590afa",
   "metadata": {},
   "outputs": [],
   "source": [
    "def attribute_masking_loss(model, g, features, mask_ratio=0.1):\n",
    "    masked_fts = {}\n",
    "    mask_loss = 0\n",
    "    masks = {}\n",
    "    for ntype, fts in features.items():\n",
    "        num_nodes = fts.size(0)\n",
    "        \n",
    "        # Create a node mask\n",
    "        node_mask = create_node_mask(num_nodes, mask_ratio)\n",
    "        \n",
    "        # Store the mask to use later\n",
    "        masks[ntype] = node_mask \n",
    "        \n",
    "        # Apply the mask to node features\n",
    "        masked_fts[ntype] = mask_node_features(fts, node_mask).detach()\n",
    "        \n",
    "    # Get predictions\n",
    "    predictions = model(g, masked_fts)\n",
    "\n",
    "    # Calculate reconstruction loss for each node type individually\n",
    "    for ntype, fts in features.items():\n",
    "        # Make sure predictions and features are correctly indexed by node type\n",
    "        if ntype in predictions:\n",
    "            detached_predictions = predictions[ntype].detach()\n",
    "            loss = F.mse_loss(detached_predictions[masks[ntype]], fts[[masks[ntype]]])\n",
    "            mask_loss += loss\n",
    "            \n",
    "    return mask_loss / len(features)  # Average loss across node types"
   ]
  },
  {
   "cell_type": "markdown",
   "id": "a7a3fb07",
   "metadata": {},
   "source": [
    "# Split Train Test Sets"
   ]
  },
  {
   "cell_type": "markdown",
   "id": "a0106629",
   "metadata": {},
   "source": [
    "### Get training node masks"
   ]
  },
  {
   "cell_type": "code",
   "execution_count": 12,
   "id": "9b60dad6",
   "metadata": {},
   "outputs": [],
   "source": [
    "# Get num nodes for each type\n",
    "num_cnodes = g.number_of_nodes('customer')\n",
    "num_enodes = g.number_of_nodes('external')"
   ]
  },
  {
   "cell_type": "code",
   "execution_count": 13,
   "id": "7b46ac7d",
   "metadata": {},
   "outputs": [],
   "source": [
    "# Set the percentage of nodes to use as training\n",
    "train_ratio = 0.8\n",
    "\n",
    "# Create random indices for each node type\n",
    "index_c = torch.randperm(num_cnodes)\n",
    "index_e = torch.randperm(num_enodes)\n",
    "\n",
    "# Calculate the number of training nodes for each type\n",
    "num_train_c = int(num_cnodes * train_ratio)\n",
    "num_train_e = int(num_enodes * train_ratio)\n",
    "\n",
    "# Generate the training masks\n",
    "tmask_c = torch.zeros(num_cnodes, dtype=torch.bool)\n",
    "tmask_e = torch.zeros(num_enodes, dtype=torch.bool)\n",
    "\n",
    "tmask_c[index_c[:num_train_c]] = True\n",
    "tmask_e[index_e[:num_train_e]] = True"
   ]
  },
  {
   "cell_type": "code",
   "execution_count": 14,
   "id": "e432d2d5",
   "metadata": {},
   "outputs": [
    {
     "data": {
      "text/plain": [
       "{'customer': tensor([ True,  True,  True,  ...,  True, False,  True]),\n",
       " 'external': tensor([False,  True,  True,  ...,  True,  True, False])}"
      ]
     },
     "execution_count": 14,
     "metadata": {},
     "output_type": "execute_result"
    }
   ],
   "source": [
    "# store the masks in a dictionary \n",
    "train_masks = {}\n",
    "train_masks['customer'] = tmask_c\n",
    "train_masks['external'] = tmask_e\n",
    "train_masks"
   ]
  },
  {
   "cell_type": "code",
   "execution_count": 15,
   "id": "14819fcc",
   "metadata": {
    "scrolled": true
   },
   "outputs": [
    {
     "data": {
      "text/plain": [
       "{'customer': tensor([False, False, False,  ..., False,  True, False]),\n",
       " 'external': tensor([ True, False, False,  ..., False, False,  True])}"
      ]
     },
     "execution_count": 15,
     "metadata": {},
     "output_type": "execute_result"
    }
   ],
   "source": [
    "# Get test masks\n",
    "test_masks = {ntype: ~train_masks[ntype] for ntype in g.ntypes}\n",
    "test_masks"
   ]
  },
  {
   "cell_type": "markdown",
   "id": "e4998158",
   "metadata": {},
   "source": [
    "### Get training and testing graphs"
   ]
  },
  {
   "cell_type": "code",
   "execution_count": 16,
   "id": "3b9f76ae",
   "metadata": {},
   "outputs": [],
   "source": [
    "# Create clones of the original graph\n",
    "train_g = g.clone()\n",
    "test_g = g.clone()"
   ]
  },
  {
   "cell_type": "code",
   "execution_count": 17,
   "id": "5d07a404",
   "metadata": {},
   "outputs": [],
   "source": [
    "# Get the training/test graph\n",
    "train_g = dgl.node_subgraph(train_g, train_masks)\n",
    "test_g = dgl.node_subgraph(test_g, test_masks)"
   ]
  },
  {
   "cell_type": "code",
   "execution_count": 18,
   "id": "8152e75b",
   "metadata": {
    "scrolled": true
   },
   "outputs": [
    {
     "data": {
      "text/plain": [
       "torch.Size([55900, 30])"
      ]
     },
     "execution_count": 18,
     "metadata": {},
     "output_type": "execute_result"
    }
   ],
   "source": [
    "train_g.ndata['features']['external'].shape"
   ]
  },
  {
   "cell_type": "markdown",
   "id": "1505053a",
   "metadata": {},
   "source": [
    "# Transform Node Feature Dimension"
   ]
  },
  {
   "cell_type": "markdown",
   "id": "c0ecffeb",
   "metadata": {},
   "source": [
    "The feature dimension for the two types of nodes, customer and external, are different, therefore, we need to transform the feature tensors into a common dimension before passing it to the convolutional layers. The following class is used to transform the node feature dimensions."
   ]
  },
  {
   "cell_type": "code",
   "execution_count": 19,
   "id": "e9d16879",
   "metadata": {},
   "outputs": [],
   "source": [
    "class FeatureTransform(nn.Module):\n",
    "    def __init__(self, in_dim, out_dim):\n",
    "        super(FeatureTransform, self).__init__()\n",
    "        \n",
    "        # Transform node features to common dimension for each node type\n",
    "        self.node_transforms = nn.ModuleDict({\n",
    "            ntype: nn.Linear(feat_dim, out_dim) for ntype, feat_dim in in_dim.items()\n",
    "        })\n",
    "    \n",
    "    def forward(self, node_features):\n",
    "        t_nfeats = {}\n",
    "        \n",
    "        # Transform node features\n",
    "        for ntype, features in node_features.items():\n",
    "            if ntype in self.node_transforms:\n",
    "                t_nfeats[ntype] = self.node_transforms[ntype](features)\n",
    "\n",
    "        return t_nfeats"
   ]
  },
  {
   "cell_type": "code",
   "execution_count": 20,
   "id": "c6ff8fdf",
   "metadata": {},
   "outputs": [],
   "source": [
    "# Create a function to apply the transformation to a given graph\n",
    "def apply_transform(g):\n",
    "    \"\"\"\n",
    "    \"\"\"\n",
    "    # create a dictionary to store the node features\n",
    "    node_fts = {ntype: g.nodes[ntype].data['features'] for ntype in g.ntypes}\n",
    "    \n",
    "    # create a dictionary to store the node feature dimensions for each node type\n",
    "    in_dims = {ntype: g.nodes[ntype].data['features'].shape[1] for ntype in g.ntypes}\n",
    "    \n",
    "    # Transform node features to common dimension\n",
    "    transform = FeatureTransform(in_dims, 42)\n",
    "    new_node_fts = transform(node_fts)\n",
    "    \n",
    "    # return the transformed node features\n",
    "    return new_node_fts"
   ]
  },
  {
   "cell_type": "markdown",
   "id": "4429d3ce",
   "metadata": {},
   "source": [
    "### Apply transformation to training graph"
   ]
  },
  {
   "cell_type": "code",
   "execution_count": 21,
   "id": "234df174",
   "metadata": {},
   "outputs": [
    {
     "data": {
      "text/plain": [
       "{'customer': tensor([[-1.5960e+01,  6.5264e+02,  6.5886e+02,  ...,  2.8117e+02,\n",
       "           3.6349e+01, -1.0107e+03],\n",
       "         [ 1.8730e+01,  4.7660e-01, -1.6409e+01,  ..., -1.8687e+00,\n",
       "           1.7417e+01, -5.1243e+00],\n",
       "         [-2.4683e+03,  3.5807e+03, -5.0532e+03,  ..., -3.9863e+03,\n",
       "          -2.8434e+03, -5.1597e+03],\n",
       "         ...,\n",
       "         [ 4.6836e+02,  1.1445e+03,  4.9761e+01,  ...,  1.0212e+03,\n",
       "          -1.3393e+03,  3.8133e+02],\n",
       "         [ 8.6206e+01,  3.6497e+01, -1.3027e+02,  ..., -3.7939e+01,\n",
       "           3.9040e+01, -2.1812e+01],\n",
       "         [-3.0980e+01,  6.8973e+01,  6.7473e+01,  ...,  6.1520e+01,\n",
       "           2.2752e+01, -1.2111e+02]], grad_fn=<AddmmBackward0>),\n",
       " 'external': tensor([[ 1.7236e+02, -7.5190e+01, -2.1428e+01,  ...,  2.0650e+01,\n",
       "           8.3039e+01,  9.5497e+01],\n",
       "         [ 1.4911e+02, -2.0069e+01,  7.2495e+01,  ..., -8.0769e+01,\n",
       "          -5.6538e+01,  3.8067e+01],\n",
       "         [ 9.5124e+02,  8.2099e+01, -7.4836e+02,  ..., -6.5200e+02,\n",
       "           1.9513e+02,  3.8493e+02],\n",
       "         ...,\n",
       "         [ 9.4684e+01, -1.0090e+02, -1.6117e+02,  ...,  4.1141e+01,\n",
       "           8.4976e+01,  6.7726e+01],\n",
       "         [ 1.7985e+01, -9.4120e+00, -4.9653e+01,  ..., -1.6486e+01,\n",
       "           6.1385e-01, -6.8735e+00],\n",
       "         [-2.3875e-01,  2.1178e+00, -1.9099e+00,  ..., -1.7649e-01,\n",
       "           1.7730e+00, -2.4656e+00]], grad_fn=<AddmmBackward0>)}"
      ]
     },
     "execution_count": 21,
     "metadata": {},
     "output_type": "execute_result"
    }
   ],
   "source": [
    "# Apply transformation to training graph and get the new in_dims\n",
    "new_train_fts = apply_transform(train_g)\n",
    "new_train_fts"
   ]
  },
  {
   "cell_type": "code",
   "execution_count": 22,
   "id": "55309289",
   "metadata": {
    "scrolled": true
   },
   "outputs": [
    {
     "data": {
      "text/plain": [
       "{'customer': 42, 'external': 42}"
      ]
     },
     "execution_count": 22,
     "metadata": {},
     "output_type": "execute_result"
    }
   ],
   "source": [
    "# Get the new dimensions for the training graph\n",
    "new_train_dims = {k: v.shape[1] for k,v in new_train_fts.items()}\n",
    "new_train_dims "
   ]
  },
  {
   "cell_type": "markdown",
   "id": "3ead9dc5",
   "metadata": {},
   "source": [
    "### Apply transformation to testing graph"
   ]
  },
  {
   "cell_type": "code",
   "execution_count": 23,
   "id": "072babc8",
   "metadata": {},
   "outputs": [
    {
     "data": {
      "text/plain": [
       "{'customer': tensor([[   26.3220,   -16.5975,    -6.6489,  ...,    20.2469,   -24.4931,\n",
       "              3.3990],\n",
       "         [-2077.9924, -1325.9006, -1217.4636,  ...,  -313.2578,    99.1838,\n",
       "            523.2397],\n",
       "         [ -380.5975,  -110.6291,   132.0687,  ...,  -144.6467,   -75.5067,\n",
       "            106.2134],\n",
       "         ...,\n",
       "         [   10.8305,   -25.0364,   -11.6678,  ...,    17.1416,   -11.4137,\n",
       "             55.8818],\n",
       "         [    3.2429,    28.6428,    60.1273,  ...,    73.9395,   -24.6393,\n",
       "             57.2959],\n",
       "         [ -423.4360,  -152.9532,   161.0216,  ...,  -140.7456,  -119.7382,\n",
       "             42.4240]], grad_fn=<AddmmBackward0>),\n",
       " 'external': tensor([[228.0441, 257.1777, 208.3454,  ..., 259.5993,  59.8399, 197.6290],\n",
       "         [123.1034, 135.3996, 106.0291,  ..., 314.2817, 125.6488, 110.5306],\n",
       "         [862.6603, 979.2479, 789.8278,  ..., 983.2619, 230.9511, 746.1061],\n",
       "         ...,\n",
       "         [ 34.9323,  -7.7604, -35.8651,  ...,  33.5211,  38.2979,  58.9721],\n",
       "         [-40.4583, -52.6744, -47.2216,  ..., 116.1157,  80.8496, -28.8771],\n",
       "         [ -2.4336,  -7.8146, -10.0866,  ...,  22.2273,  14.5295,   1.8236]],\n",
       "        grad_fn=<AddmmBackward0>)}"
      ]
     },
     "execution_count": 23,
     "metadata": {},
     "output_type": "execute_result"
    }
   ],
   "source": [
    "# Apply transformation to test graph and get the new in_dims\n",
    "new_test_fts = apply_transform(test_g)\n",
    "new_test_fts"
   ]
  },
  {
   "cell_type": "code",
   "execution_count": 24,
   "id": "44488d6e",
   "metadata": {},
   "outputs": [
    {
     "data": {
      "text/plain": [
       "{'customer': 42, 'external': 42}"
      ]
     },
     "execution_count": 24,
     "metadata": {},
     "output_type": "execute_result"
    }
   ],
   "source": [
    "# Get the new dimensions for the testing graph\n",
    "new_test_dims = {k: v.shape[1] for k,v in new_test_fts.items()}\n",
    "new_test_dims "
   ]
  },
  {
   "cell_type": "markdown",
   "id": "28f92d88",
   "metadata": {},
   "source": [
    "# Train Model "
   ]
  },
  {
   "cell_type": "markdown",
   "id": "078897af",
   "metadata": {},
   "source": [
    "Train model using train_g and evaluate performance on test_g."
   ]
  },
  {
   "cell_type": "code",
   "execution_count": 25,
   "id": "16df0745",
   "metadata": {},
   "outputs": [],
   "source": [
    "def evaluate(model, g, features):\n",
    "    model.eval()\n",
    "    with torch.no_grad():\n",
    "        loss = attribute_masking_loss(model, g, features)\n",
    "    return loss"
   ]
  },
  {
   "cell_type": "code",
   "execution_count": 26,
   "id": "bb06a9eb",
   "metadata": {},
   "outputs": [],
   "source": [
    "# Track loss\n",
    "best_val_loss = float('inf')"
   ]
  },
  {
   "cell_type": "code",
   "execution_count": 27,
   "id": "90bd97ae",
   "metadata": {},
   "outputs": [],
   "source": [
    "# Create lists to store the losses for plotting\n",
    "train_losses = []\n",
    "test_losses = []"
   ]
  },
  {
   "cell_type": "code",
   "execution_count": 28,
   "id": "2bc977d1",
   "metadata": {
    "scrolled": true
   },
   "outputs": [
    {
     "name": "stdout",
     "output_type": "stream",
     "text": [
      "Epoch 0, Loss: 8523796.0\n",
      "Epoch 0, Test Loss: 2907590.75\n",
      "Saved new best model\n",
      "Epoch 1, Loss: 8835002.0\n",
      "Epoch 1, Test Loss: 3275320.0\n",
      "Epoch 2, Loss: 8416380.0\n",
      "Epoch 2, Test Loss: 3194568.0\n",
      "Epoch 3, Loss: 7956960.0\n",
      "Epoch 3, Test Loss: 2986394.0\n",
      "Epoch 4, Loss: 8126125.5\n",
      "Epoch 4, Test Loss: 3090827.5\n",
      "Epoch 5, Loss: 7936227.0\n",
      "Epoch 5, Test Loss: 3421765.0\n",
      "Epoch 6, Loss: 8880906.0\n",
      "Epoch 6, Test Loss: 3135504.0\n",
      "Epoch 7, Loss: 9041500.0\n",
      "Epoch 7, Test Loss: 3549744.75\n",
      "Epoch 8, Loss: 8472712.0\n",
      "Epoch 8, Test Loss: 3265718.5\n",
      "Epoch 9, Loss: 8166681.0\n",
      "Epoch 9, Test Loss: 3362776.0\n",
      "Epoch 10, Loss: 11421682.0\n",
      "Epoch 10, Test Loss: 3621485.5\n",
      "Epoch 11, Loss: 7992294.5\n",
      "Epoch 11, Test Loss: 3913351.5\n",
      "Epoch 12, Loss: 8272961.0\n",
      "Epoch 12, Test Loss: 3155087.25\n",
      "Epoch 13, Loss: 7945114.0\n",
      "Epoch 13, Test Loss: 3100336.75\n",
      "Epoch 14, Loss: 10945242.0\n",
      "Epoch 14, Test Loss: 3345609.5\n",
      "Epoch 15, Loss: 8142507.0\n",
      "Epoch 15, Test Loss: 3547271.5\n",
      "Epoch 16, Loss: 8854225.0\n",
      "Epoch 16, Test Loss: 2982541.0\n",
      "Epoch 17, Loss: 8583421.0\n",
      "Epoch 17, Test Loss: 3281277.0\n",
      "Epoch 18, Loss: 14579674.0\n",
      "Epoch 18, Test Loss: 2822292.75\n",
      "Saved new best model\n",
      "Epoch 19, Loss: 8193570.0\n",
      "Epoch 19, Test Loss: 3136994.0\n",
      "Epoch 20, Loss: 7289208.5\n",
      "Epoch 20, Test Loss: 2527719.5\n",
      "Saved new best model\n",
      "Epoch 21, Loss: 8402197.0\n",
      "Epoch 21, Test Loss: 2816484.5\n",
      "Epoch 22, Loss: 8188234.0\n",
      "Epoch 22, Test Loss: 3347446.5\n",
      "Epoch 23, Loss: 8246472.0\n",
      "Epoch 23, Test Loss: 3884088.0\n",
      "Epoch 24, Loss: 9853362.0\n",
      "Epoch 24, Test Loss: 3833528.0\n",
      "Epoch 25, Loss: 8341979.0\n",
      "Epoch 25, Test Loss: 3675777.5\n",
      "Epoch 26, Loss: 8460754.0\n",
      "Epoch 26, Test Loss: 3248565.75\n",
      "Epoch 27, Loss: 11211122.0\n",
      "Epoch 27, Test Loss: 3098657.75\n",
      "Epoch 28, Loss: 8399632.0\n",
      "Epoch 28, Test Loss: 3067854.5\n",
      "Epoch 29, Loss: 8637066.0\n",
      "Epoch 29, Test Loss: 2631356.25\n",
      "Epoch 30, Loss: 10557405.0\n",
      "Epoch 30, Test Loss: 3700469.0\n",
      "Epoch 31, Loss: 9382788.0\n",
      "Epoch 31, Test Loss: 3467839.0\n",
      "Epoch 32, Loss: 8549058.0\n",
      "Epoch 32, Test Loss: 3249448.25\n",
      "Epoch 33, Loss: 8269070.0\n",
      "Epoch 33, Test Loss: 3432695.25\n",
      "Epoch 34, Loss: 7875932.0\n",
      "Epoch 34, Test Loss: 2748435.0\n",
      "Epoch 35, Loss: 10909088.0\n",
      "Epoch 35, Test Loss: 3620632.5\n",
      "Epoch 36, Loss: 11200644.0\n",
      "Epoch 36, Test Loss: 3202634.0\n",
      "Epoch 37, Loss: 8484110.0\n",
      "Epoch 37, Test Loss: 3828944.75\n",
      "Epoch 38, Loss: 9255057.0\n",
      "Epoch 38, Test Loss: 2667709.5\n",
      "Epoch 39, Loss: 8051126.5\n",
      "Epoch 39, Test Loss: 3060028.25\n",
      "Epoch 40, Loss: 8956188.0\n",
      "Epoch 40, Test Loss: 2547824.25\n",
      "Epoch 41, Loss: 7854944.0\n",
      "Epoch 41, Test Loss: 3289553.0\n",
      "Epoch 42, Loss: 13259852.0\n",
      "Epoch 42, Test Loss: 2680661.25\n",
      "Epoch 43, Loss: 8835684.0\n",
      "Epoch 43, Test Loss: 3226931.0\n",
      "Epoch 44, Loss: 10577032.0\n",
      "Epoch 44, Test Loss: 3333742.5\n",
      "Epoch 45, Loss: 7587484.0\n",
      "Epoch 45, Test Loss: 3768840.5\n",
      "Epoch 46, Loss: 9014033.0\n",
      "Epoch 46, Test Loss: 2500997.5\n",
      "Saved new best model\n",
      "Epoch 47, Loss: 8300124.5\n",
      "Epoch 47, Test Loss: 3738733.0\n",
      "Epoch 48, Loss: 10446050.0\n",
      "Epoch 48, Test Loss: 3579764.0\n",
      "Epoch 49, Loss: 8816285.0\n",
      "Epoch 49, Test Loss: 2849235.75\n",
      "Epoch 50, Loss: 9721109.0\n",
      "Epoch 50, Test Loss: 3380189.25\n",
      "Epoch 51, Loss: 9065541.0\n",
      "Epoch 51, Test Loss: 3244087.0\n",
      "Epoch 52, Loss: 8486154.0\n",
      "Epoch 52, Test Loss: 2529780.5\n",
      "Epoch 53, Loss: 7995498.5\n",
      "Epoch 53, Test Loss: 2590713.0\n",
      "Epoch 54, Loss: 9337906.0\n",
      "Epoch 54, Test Loss: 3783695.0\n",
      "Epoch 55, Loss: 7902089.5\n",
      "Epoch 55, Test Loss: 3629662.0\n",
      "Epoch 56, Loss: 10006427.0\n",
      "Epoch 56, Test Loss: 2876858.25\n",
      "Epoch 57, Loss: 8439446.0\n",
      "Epoch 57, Test Loss: 3624597.5\n",
      "Epoch 58, Loss: 9482266.0\n",
      "Epoch 58, Test Loss: 3214781.5\n",
      "Epoch 59, Loss: 7718870.0\n",
      "Epoch 59, Test Loss: 3300728.75\n",
      "Epoch 60, Loss: 8490812.0\n",
      "Epoch 60, Test Loss: 2913994.5\n",
      "Epoch 61, Loss: 8984891.0\n",
      "Epoch 61, Test Loss: 3531810.0\n",
      "Epoch 62, Loss: 8213547.5\n",
      "Epoch 62, Test Loss: 3001464.0\n",
      "Epoch 63, Loss: 8031790.0\n",
      "Epoch 63, Test Loss: 2942182.5\n",
      "Epoch 64, Loss: 9474814.0\n",
      "Epoch 64, Test Loss: 4880754.0\n",
      "Epoch 65, Loss: 9014310.0\n",
      "Epoch 65, Test Loss: 3482338.5\n",
      "Epoch 66, Loss: 8333454.0\n",
      "Epoch 66, Test Loss: 3532350.25\n",
      "Epoch 67, Loss: 13105508.0\n",
      "Epoch 67, Test Loss: 3530373.5\n",
      "Epoch 68, Loss: 8597422.0\n",
      "Epoch 68, Test Loss: 4182320.5\n",
      "Epoch 69, Loss: 8117158.0\n",
      "Epoch 69, Test Loss: 2937171.5\n",
      "Epoch 70, Loss: 9241340.0\n",
      "Epoch 70, Test Loss: 3419654.5\n",
      "Epoch 71, Loss: 8474522.0\n",
      "Epoch 71, Test Loss: 3322721.5\n",
      "Epoch 72, Loss: 8213679.0\n",
      "Epoch 72, Test Loss: 2940555.25\n",
      "Epoch 73, Loss: 8266743.0\n",
      "Epoch 73, Test Loss: 2837052.0\n",
      "Epoch 74, Loss: 8021531.0\n",
      "Epoch 74, Test Loss: 2873981.25\n",
      "Epoch 75, Loss: 10254671.0\n",
      "Epoch 75, Test Loss: 2626498.75\n",
      "Epoch 76, Loss: 10904526.0\n",
      "Epoch 76, Test Loss: 3942623.0\n",
      "Epoch 77, Loss: 9635189.0\n",
      "Epoch 77, Test Loss: 3627573.25\n",
      "Epoch 78, Loss: 11166230.0\n",
      "Epoch 78, Test Loss: 3464237.0\n",
      "Epoch 79, Loss: 8149658.5\n",
      "Epoch 79, Test Loss: 3534358.75\n",
      "Epoch 80, Loss: 9939759.0\n",
      "Epoch 80, Test Loss: 4270767.5\n",
      "Epoch 81, Loss: 7779786.0\n",
      "Epoch 81, Test Loss: 3813907.25\n",
      "Epoch 82, Loss: 10983628.0\n",
      "Epoch 82, Test Loss: 2602168.0\n",
      "Epoch 83, Loss: 8271021.0\n",
      "Epoch 83, Test Loss: 2631159.0\n",
      "Epoch 84, Loss: 8270133.5\n",
      "Epoch 84, Test Loss: 3237703.5\n",
      "Epoch 85, Loss: 8531322.0\n",
      "Epoch 85, Test Loss: 3401061.5\n",
      "Epoch 86, Loss: 10933908.0\n",
      "Epoch 86, Test Loss: 3174079.5\n",
      "Epoch 87, Loss: 9251356.0\n",
      "Epoch 87, Test Loss: 4239115.0\n",
      "Epoch 88, Loss: 8603404.0\n",
      "Epoch 88, Test Loss: 3168413.75\n",
      "Epoch 89, Loss: 10264320.0\n",
      "Epoch 89, Test Loss: 3106928.75\n",
      "Epoch 90, Loss: 8547098.0\n",
      "Epoch 90, Test Loss: 3079791.5\n",
      "Epoch 91, Loss: 8629998.0\n",
      "Epoch 91, Test Loss: 2962209.0\n",
      "Epoch 92, Loss: 8297299.0\n",
      "Epoch 92, Test Loss: 3333580.0\n",
      "Epoch 93, Loss: 9407168.0\n",
      "Epoch 93, Test Loss: 2849730.0\n",
      "Epoch 94, Loss: 10959992.0\n",
      "Epoch 94, Test Loss: 3843679.5\n",
      "Epoch 95, Loss: 9343565.0\n",
      "Epoch 95, Test Loss: 2933983.5\n",
      "Epoch 96, Loss: 9628338.0\n",
      "Epoch 96, Test Loss: 2874828.5\n",
      "Epoch 97, Loss: 9432820.0\n",
      "Epoch 97, Test Loss: 3130887.0\n",
      "Epoch 98, Loss: 10175456.0\n",
      "Epoch 98, Test Loss: 2737140.25\n",
      "Epoch 99, Loss: 8611207.0\n",
      "Epoch 99, Test Loss: 3458036.25\n"
     ]
    }
   ],
   "source": [
    "# Initiate model\n",
    "model = HeteroGNN(train_g, new_train_dims, common_dim=42, out_dim=42, agg_type='mean')\n",
    "optimizer = torch.optim.Adam(model.parameters(), lr=0.02)\n",
    "\n",
    "for epoch in range(100):\n",
    "    # Train the model\n",
    "    model.train()\n",
    "    optimizer.zero_grad()\n",
    "    loss = attribute_masking_loss(model, train_g, new_train_fts)\n",
    "    loss.backward(retain_graph=True)\n",
    "    optimizer.step()\n",
    "    \n",
    "    # Store the training loss\n",
    "    train_losses.append(loss.item())\n",
    "    print(f\"Epoch {epoch}, Loss: {loss.item()}\")\n",
    "    \n",
    "    # Evaluate on the test set\n",
    "    val_loss = evaluate(model, test_g, new_test_fts)\n",
    "    \n",
    "    # Store the test loss\n",
    "    test_losses.append(val_loss.item())\n",
    "    print(f\"Epoch {epoch}, Test Loss: {val_loss.item()}\")\n",
    "    \n",
    "    # Checkpointing the best model\n",
    "    if val_loss < best_val_loss:\n",
    "        best_val_loss = val_loss\n",
    "        torch.save(model.state_dict(), 'best_model.pth')\n",
    "        print(\"Saved new best model\")"
   ]
  },
  {
   "cell_type": "markdown",
   "id": "7d15b145",
   "metadata": {},
   "source": [
    "# Plot the Losses"
   ]
  },
  {
   "cell_type": "code",
   "execution_count": 29,
   "id": "79e71440",
   "metadata": {
    "scrolled": false
   },
   "outputs": [
    {
     "data": {
      "image/png": "[encoded data removed]",
      "text/plain": [
       "<Figure size 1000x500 with 1 Axes>"
      ]
     },
     "metadata": {},
     "output_type": "display_data"
    }
   ],
   "source": [
    "plt.figure(figsize=(10, 5))\n",
    "plt.plot(train_losses, label='Training Loss')\n",
    "plt.plot(test_losses, label='Test Loss')\n",
    "plt.xlabel('Epoch')\n",
    "plt.ylabel('Loss')\n",
    "plt.title('Training and Test Loss')\n",
    "plt.legend()\n",
    "plt.show()"
   ]
  },
  {
   "cell_type": "markdown",
   "id": "03643e50",
   "metadata": {},
   "source": [
    "### Training with 'lstm' agg"
   ]
  },
  {
   "cell_type": "code",
   "execution_count": 30,
   "id": "29885c1d",
   "metadata": {},
   "outputs": [],
   "source": [
    "# Create lists to store the losses for plotting\n",
    "lstm_train_losses = []\n",
    "lstm_test_losses = []"
   ]
  },
  {
   "cell_type": "code",
   "execution_count": 31,
   "id": "ffe0c527",
   "metadata": {
    "scrolled": true
   },
   "outputs": [
    {
     "name": "stdout",
     "output_type": "stream",
     "text": [
      "Epoch 0, Loss: 605604.75\n",
      "Epoch 0, Test Loss: 1014765.625\n",
      "Saved new best model\n",
      "Epoch 1, Loss: 597690.875\n",
      "Epoch 1, Test Loss: 756558.125\n",
      "Saved new best model\n",
      "Epoch 2, Loss: 521921.125\n",
      "Epoch 2, Test Loss: 649967.25\n",
      "Saved new best model\n",
      "Epoch 3, Loss: 557817.4375\n",
      "Epoch 3, Test Loss: 781573.375\n",
      "Epoch 4, Loss: 538550.1875\n",
      "Epoch 4, Test Loss: 565115.4375\n",
      "Saved new best model\n",
      "Epoch 5, Loss: 694645.125\n",
      "Epoch 5, Test Loss: 533628.0\n",
      "Saved new best model\n",
      "Epoch 6, Loss: 650102.5\n",
      "Epoch 6, Test Loss: 513833.34375\n",
      "Saved new best model\n",
      "Epoch 7, Loss: 607939.5\n",
      "Epoch 7, Test Loss: 509862.1875\n",
      "Saved new best model\n",
      "Epoch 8, Loss: 824817.25\n",
      "Epoch 8, Test Loss: 757338.625\n",
      "Epoch 9, Loss: 567056.0625\n",
      "Epoch 9, Test Loss: 470166.1875\n",
      "Saved new best model\n",
      "Epoch 10, Loss: 829561.6875\n",
      "Epoch 10, Test Loss: 449299.34375\n",
      "Saved new best model\n",
      "Epoch 11, Loss: 641628.4375\n",
      "Epoch 11, Test Loss: 545454.875\n",
      "Epoch 12, Loss: 790386.0\n",
      "Epoch 12, Test Loss: 453119.4375\n",
      "Epoch 13, Loss: 618588.25\n",
      "Epoch 13, Test Loss: 500369.8125\n",
      "Epoch 14, Loss: 639672.625\n",
      "Epoch 14, Test Loss: 654498.3125\n",
      "Epoch 15, Loss: 593884.8125\n",
      "Epoch 15, Test Loss: 1198896.75\n",
      "Epoch 16, Loss: 670699.0\n",
      "Epoch 16, Test Loss: 649396.625\n",
      "Epoch 17, Loss: 573405.75\n",
      "Epoch 17, Test Loss: 608988.375\n",
      "Epoch 18, Loss: 574616.5625\n",
      "Epoch 18, Test Loss: 562344.875\n",
      "Epoch 19, Loss: 611931.875\n",
      "Epoch 19, Test Loss: 764079.4375\n",
      "Epoch 20, Loss: 511494.625\n",
      "Epoch 20, Test Loss: 632673.9375\n",
      "Epoch 21, Loss: 659691.625\n",
      "Epoch 21, Test Loss: 707141.25\n",
      "Epoch 22, Loss: 570532.125\n",
      "Epoch 22, Test Loss: 645483.75\n",
      "Epoch 23, Loss: 555705.5\n",
      "Epoch 23, Test Loss: 1147264.25\n",
      "Epoch 24, Loss: 686755.9375\n",
      "Epoch 24, Test Loss: 651950.3125\n",
      "Epoch 25, Loss: 594153.3125\n",
      "Epoch 25, Test Loss: 586680.625\n",
      "Epoch 26, Loss: 563036.75\n",
      "Epoch 26, Test Loss: 517417.875\n",
      "Epoch 27, Loss: 620393.5\n",
      "Epoch 27, Test Loss: 507123.6875\n",
      "Epoch 28, Loss: 581644.3125\n",
      "Epoch 28, Test Loss: 597863.25\n",
      "Epoch 29, Loss: 548507.75\n",
      "Epoch 29, Test Loss: 540151.9375\n",
      "Epoch 30, Loss: 678966.3125\n",
      "Epoch 30, Test Loss: 854447.1875\n",
      "Epoch 31, Loss: 586907.625\n",
      "Epoch 31, Test Loss: 564669.625\n",
      "Epoch 32, Loss: 591898.875\n",
      "Epoch 32, Test Loss: 604204.0625\n",
      "Epoch 33, Loss: 538190.75\n",
      "Epoch 33, Test Loss: 579585.0\n",
      "Epoch 34, Loss: 571681.5\n",
      "Epoch 34, Test Loss: 606690.0625\n",
      "Epoch 35, Loss: 557630.875\n",
      "Epoch 35, Test Loss: 1095842.0\n",
      "Epoch 36, Loss: 602568.625\n",
      "Epoch 36, Test Loss: 559772.5\n",
      "Epoch 37, Loss: 611350.375\n",
      "Epoch 37, Test Loss: 585138.125\n",
      "Epoch 38, Loss: 611436.25\n",
      "Epoch 38, Test Loss: 713233.8125\n",
      "Epoch 39, Loss: 698034.9375\n",
      "Epoch 39, Test Loss: 1251411.625\n",
      "Epoch 40, Loss: 713899.5625\n",
      "Epoch 40, Test Loss: 517971.4375\n",
      "Epoch 41, Loss: 618393.25\n",
      "Epoch 41, Test Loss: 1147682.25\n",
      "Epoch 42, Loss: 693791.125\n",
      "Epoch 42, Test Loss: 742719.5625\n",
      "Epoch 43, Loss: 609479.625\n",
      "Epoch 43, Test Loss: 673758.8125\n",
      "Epoch 44, Loss: 728426.6875\n",
      "Epoch 44, Test Loss: 505009.25\n",
      "Epoch 45, Loss: 685075.375\n",
      "Epoch 45, Test Loss: 657108.0625\n",
      "Epoch 46, Loss: 673270.9375\n",
      "Epoch 46, Test Loss: 657944.9375\n",
      "Epoch 47, Loss: 583672.875\n",
      "Epoch 47, Test Loss: 1209312.875\n",
      "Epoch 48, Loss: 635181.0625\n",
      "Epoch 48, Test Loss: 525460.3125\n",
      "Epoch 49, Loss: 571817.0\n",
      "Epoch 49, Test Loss: 1225592.75\n",
      "Epoch 50, Loss: 898335.125\n",
      "Epoch 50, Test Loss: 702975.5\n",
      "Epoch 51, Loss: 501993.0\n",
      "Epoch 51, Test Loss: 1164825.25\n",
      "Epoch 52, Loss: 747924.0\n",
      "Epoch 52, Test Loss: 700868.0625\n",
      "Epoch 53, Loss: 559634.625\n",
      "Epoch 53, Test Loss: 655396.375\n",
      "Epoch 54, Loss: 607299.125\n",
      "Epoch 54, Test Loss: 535704.1875\n",
      "Epoch 55, Loss: 602583.3125\n",
      "Epoch 55, Test Loss: 534498.375\n",
      "Epoch 56, Loss: 578647.5\n",
      "Epoch 56, Test Loss: 587924.625\n",
      "Epoch 57, Loss: 817376.125\n",
      "Epoch 57, Test Loss: 562057.25\n",
      "Epoch 58, Loss: 610374.25\n",
      "Epoch 58, Test Loss: 1131941.75\n",
      "Epoch 59, Loss: 559246.75\n",
      "Epoch 59, Test Loss: 603451.5\n",
      "Epoch 60, Loss: 575096.125\n",
      "Epoch 60, Test Loss: 473639.9375\n",
      "Epoch 61, Loss: 580476.25\n",
      "Epoch 61, Test Loss: 706373.375\n",
      "Epoch 62, Loss: 857495.125\n",
      "Epoch 62, Test Loss: 713213.5625\n",
      "Epoch 63, Loss: 552894.0\n",
      "Epoch 63, Test Loss: 536902.625\n",
      "Epoch 64, Loss: 724672.4375\n",
      "Epoch 64, Test Loss: 727675.0\n",
      "Epoch 65, Loss: 556277.5625\n",
      "Epoch 65, Test Loss: 542562.375\n",
      "Epoch 66, Loss: 570866.25\n",
      "Epoch 66, Test Loss: 657528.0\n",
      "Epoch 67, Loss: 864368.125\n",
      "Epoch 67, Test Loss: 553070.375\n",
      "Epoch 68, Loss: 611902.125\n",
      "Epoch 68, Test Loss: 701926.125\n",
      "Epoch 69, Loss: 618916.5\n",
      "Epoch 69, Test Loss: 1125366.75\n",
      "Epoch 70, Loss: 518962.5625\n",
      "Epoch 70, Test Loss: 473479.3125\n",
      "Epoch 71, Loss: 834581.0\n",
      "Epoch 71, Test Loss: 596529.6875\n",
      "Epoch 72, Loss: 624493.6875\n",
      "Epoch 72, Test Loss: 656128.75\n",
      "Epoch 73, Loss: 582652.75\n",
      "Epoch 73, Test Loss: 753200.625\n",
      "Epoch 74, Loss: 718882.6875\n",
      "Epoch 74, Test Loss: 611923.0\n",
      "Epoch 75, Loss: 619939.375\n",
      "Epoch 75, Test Loss: 645326.75\n",
      "Epoch 76, Loss: 558847.1875\n",
      "Epoch 76, Test Loss: 461398.4375\n",
      "Epoch 77, Loss: 532453.4375\n",
      "Epoch 77, Test Loss: 814261.875\n",
      "Epoch 78, Loss: 815046.1875\n",
      "Epoch 78, Test Loss: 552765.75\n",
      "Epoch 79, Loss: 524282.25\n",
      "Epoch 79, Test Loss: 572310.9375\n",
      "Epoch 80, Loss: 550169.75\n",
      "Epoch 80, Test Loss: 680338.125\n",
      "Epoch 81, Loss: 916564.5\n",
      "Epoch 81, Test Loss: 757665.4375\n",
      "Epoch 82, Loss: 553527.8125\n",
      "Epoch 82, Test Loss: 1080362.25\n",
      "Epoch 83, Loss: 573136.0625\n",
      "Epoch 83, Test Loss: 593562.625\n",
      "Epoch 84, Loss: 595116.0\n",
      "Epoch 84, Test Loss: 652356.75\n",
      "Epoch 85, Loss: 558426.3125\n",
      "Epoch 85, Test Loss: 570004.0\n",
      "Epoch 86, Loss: 539806.625\n",
      "Epoch 86, Test Loss: 1108208.125\n",
      "Epoch 87, Loss: 811566.375\n",
      "Epoch 87, Test Loss: 703756.125\n",
      "Epoch 88, Loss: 649267.0\n",
      "Epoch 88, Test Loss: 595398.5\n",
      "Epoch 89, Loss: 610673.75\n",
      "Epoch 89, Test Loss: 605287.8125\n",
      "Epoch 90, Loss: 633795.25\n",
      "Epoch 90, Test Loss: 551291.5625\n",
      "Epoch 91, Loss: 568221.5\n",
      "Epoch 91, Test Loss: 588639.625\n",
      "Epoch 92, Loss: 718713.1875\n",
      "Epoch 92, Test Loss: 1112407.5\n",
      "Epoch 93, Loss: 565072.375\n",
      "Epoch 93, Test Loss: 770992.875\n",
      "Epoch 94, Loss: 607585.375\n",
      "Epoch 94, Test Loss: 616912.8125\n",
      "Epoch 95, Loss: 637244.375\n",
      "Epoch 95, Test Loss: 573644.1875\n",
      "Epoch 96, Loss: 641012.875\n",
      "Epoch 96, Test Loss: 620898.125\n",
      "Epoch 97, Loss: 566180.75\n",
      "Epoch 97, Test Loss: 664498.3125\n",
      "Epoch 98, Loss: 658469.25\n",
      "Epoch 98, Test Loss: 639070.0\n",
      "Epoch 99, Loss: 710548.5625\n",
      "Epoch 99, Test Loss: 728414.1875\n"
     ]
    }
   ],
   "source": [
    "# Initiate model\n",
    "model = HeteroGNN(train_g, new_train_dims, common_dim=42, out_dim=42, agg_type='lstm')\n",
    "optimizer = torch.optim.Adam(model.parameters(), lr=0.02)\n",
    "\n",
    "for epoch in range(100):\n",
    "    # Train the model\n",
    "    model.train()\n",
    "    optimizer.zero_grad()\n",
    "    loss = attribute_masking_loss(model, train_g, new_train_fts)\n",
    "    loss.backward(retain_graph=True)\n",
    "    optimizer.step()\n",
    "    \n",
    "    # Store the training loss\n",
    "    train_losses.append(loss.item())\n",
    "    lstm_train_losses.append(loss.item())\n",
    "    print(f\"Epoch {epoch}, Loss: {loss.item()}\")\n",
    "    \n",
    "    # Evaluate on the test set\n",
    "    val_loss = evaluate(model, test_g, new_test_fts)\n",
    "    \n",
    "    # Store the test loss\n",
    "    test_losses.append(val_loss.item())\n",
    "    lstm_test_losses.append(val_loss.item())\n",
    "    print(f\"Epoch {epoch}, Test Loss: {val_loss.item()}\")\n",
    "    \n",
    "    # Checkpointing the best model\n",
    "    if val_loss < best_val_loss:\n",
    "        best_val_loss = val_loss\n",
    "        torch.save(model.state_dict(), 'best_model.pth')\n",
    "        print(\"Saved new best model\")"
   ]
  },
  {
   "cell_type": "code",
   "execution_count": 32,
   "id": "2c71e83c",
   "metadata": {},
   "outputs": [
    {
     "data": {
      "image/png": "[encoded data removed]",
      "text/plain": [
       "<Figure size 1000x500 with 1 Axes>"
      ]
     },
     "metadata": {},
     "output_type": "display_data"
    }
   ],
   "source": [
    "plt.figure(figsize=(10, 5))\n",
    "plt.plot(train_losses, label='Training Loss')\n",
    "plt.plot(test_losses, label='Test Loss')\n",
    "plt.xlabel('Epoch')\n",
    "plt.ylabel('Loss')\n",
    "plt.title('Training and Test Loss')\n",
    "plt.legend()\n",
    "plt.show()"
   ]
  },
  {
   "cell_type": "code",
   "execution_count": 38,
   "id": "2d14e76a",
   "metadata": {
    "scrolled": false
   },
   "outputs": [
    {
     "data": {
      "image/png": "[encoded data removed]",
      "text/plain": [
       "<Figure size 1000x500 with 1 Axes>"
      ]
     },
     "metadata": {},
     "output_type": "display_data"
    }
   ],
   "source": [
    "plt.figure(figsize=(10, 5))\n",
    "plt.plot(lstm_train_losses, label='Training Loss')\n",
    "plt.plot(lstm_test_losses, label='Test Loss')\n",
    "plt.xlabel('Epoch')\n",
    "plt.ylabel('Loss')\n",
    "plt.title('Training and Test Loss')\n",
    "plt.legend()\n",
    "plt.show()"
   ]
  },
  {
   "cell_type": "markdown",
   "id": "be7d6615",
   "metadata": {},
   "source": [
    "# Generate Node Embeddings with Best Model"
   ]
  },
  {
   "cell_type": "code",
   "execution_count": 33,
   "id": "05ac288a",
   "metadata": {
    "scrolled": true
   },
   "outputs": [
    {
     "data": {
      "text/plain": [
       "HeteroGNN(\n",
       "  (node_transforms): ModuleDict(\n",
       "    (customer): Linear(in_features=42, out_features=42, bias=True)\n",
       "    (external): Linear(in_features=42, out_features=42, bias=True)\n",
       "  )\n",
       "  (gnn_layers): ModuleList(\n",
       "    (0-1): 2 x HeteroGraphConv(\n",
       "      (mods): ModuleDict(\n",
       "        (cc_self): SAGEConv(\n",
       "          (feat_drop): Dropout(p=0.1, inplace=False)\n",
       "          (lstm): LSTM(42, 42, batch_first=True)\n",
       "          (fc_neigh): Linear(in_features=42, out_features=42, bias=False)\n",
       "          (fc_self): Linear(in_features=42, out_features=42, bias=True)\n",
       "        )\n",
       "        (cec): SAGEConv(\n",
       "          (feat_drop): Dropout(p=0.1, inplace=False)\n",
       "          (lstm): LSTM(42, 42, batch_first=True)\n",
       "          (fc_neigh): Linear(in_features=42, out_features=42, bias=False)\n",
       "          (fc_self): Linear(in_features=42, out_features=42, bias=True)\n",
       "        )\n",
       "        (cee): SAGEConv(\n",
       "          (feat_drop): Dropout(p=0.1, inplace=False)\n",
       "          (lstm): LSTM(42, 42, batch_first=True)\n",
       "          (fc_neigh): Linear(in_features=42, out_features=42, bias=False)\n",
       "          (fc_self): Linear(in_features=42, out_features=42, bias=True)\n",
       "        )\n",
       "        (cwc): SAGEConv(\n",
       "          (feat_drop): Dropout(p=0.1, inplace=False)\n",
       "          (lstm): LSTM(42, 42, batch_first=True)\n",
       "          (fc_neigh): Linear(in_features=42, out_features=42, bias=False)\n",
       "          (fc_self): Linear(in_features=42, out_features=42, bias=True)\n",
       "        )\n",
       "        (cwe): SAGEConv(\n",
       "          (feat_drop): Dropout(p=0.1, inplace=False)\n",
       "          (lstm): LSTM(42, 42, batch_first=True)\n",
       "          (fc_neigh): Linear(in_features=42, out_features=42, bias=False)\n",
       "          (fc_self): Linear(in_features=42, out_features=42, bias=True)\n",
       "        )\n",
       "        (ee_self): SAGEConv(\n",
       "          (feat_drop): Dropout(p=0.1, inplace=False)\n",
       "          (lstm): LSTM(42, 42, batch_first=True)\n",
       "          (fc_neigh): Linear(in_features=42, out_features=42, bias=False)\n",
       "          (fc_self): Linear(in_features=42, out_features=42, bias=True)\n",
       "        )\n",
       "        (eec): SAGEConv(\n",
       "          (feat_drop): Dropout(p=0.1, inplace=False)\n",
       "          (lstm): LSTM(42, 42, batch_first=True)\n",
       "          (fc_neigh): Linear(in_features=42, out_features=42, bias=False)\n",
       "          (fc_self): Linear(in_features=42, out_features=42, bias=True)\n",
       "        )\n",
       "        (ewc): SAGEConv(\n",
       "          (feat_drop): Dropout(p=0.1, inplace=False)\n",
       "          (lstm): LSTM(42, 42, batch_first=True)\n",
       "          (fc_neigh): Linear(in_features=42, out_features=42, bias=False)\n",
       "          (fc_self): Linear(in_features=42, out_features=42, bias=True)\n",
       "        )\n",
       "      )\n",
       "    )\n",
       "  )\n",
       "  (output_layers): ModuleDict(\n",
       "    (customer): Linear(in_features=42, out_features=42, bias=True)\n",
       "    (external): Linear(in_features=42, out_features=42, bias=True)\n",
       "  )\n",
       ")"
      ]
     },
     "execution_count": 33,
     "metadata": {},
     "output_type": "execute_result"
    }
   ],
   "source": [
    "# Initialize the model with the same arguments as the trained model\n",
    "model = HeteroGNN(train_g, new_train_dims, common_dim=42, out_dim=42, agg_type='lstm')\n",
    "model.load_state_dict(torch.load('best_model.pth'))\n",
    "model.eval()  "
   ]
  },
  {
   "cell_type": "code",
   "execution_count": 34,
   "id": "aa16670a",
   "metadata": {},
   "outputs": [
    {
     "data": {
      "text/plain": [
       "{'customer': tensor([[ -525.8912,   385.0594,  -158.3823,  ...,  -103.9524,  -767.7380,\n",
       "             14.0343],\n",
       "         [   13.4131,    20.7258,   -18.2366,  ...,   -17.3777,   -26.3557,\n",
       "             -4.1672],\n",
       "         [-3426.5581, -1609.0129,  3513.5515,  ...,   976.0396,  2553.9829,\n",
       "           4102.6157],\n",
       "         ...,\n",
       "         [   15.2620,    22.7421,   -56.0457,  ...,   -48.5699,  -101.8715,\n",
       "            -64.6957],\n",
       "         [  142.6680,  -182.9664,  -110.1800,  ...,  -173.8490,    78.0142,\n",
       "           -322.2863],\n",
       "         [  -67.2352,    34.9635,    17.9244,  ...,    22.7592,   -58.1434,\n",
       "            -61.2577]], grad_fn=<AddmmBackward0>),\n",
       " 'external': tensor([[ 217.4209,  235.3573,   33.5766,  ...,  234.2415,   53.8519,\n",
       "           -71.0787],\n",
       "         [ 197.4887,  171.0712,   20.5097,  ...,   56.0696,  121.4947,\n",
       "          -187.5149],\n",
       "         [ 203.6861,  220.7253,   31.7750,  ...,  219.1276,   51.1602,\n",
       "           -66.0461],\n",
       "         ...,\n",
       "         [  11.2604,  -10.4334,   38.0885,  ...,  -37.0101,   40.3254,\n",
       "           -34.2212],\n",
       "         [   1.3093,    0.5160,    2.5923,  ...,    0.5576,    3.7497,\n",
       "             1.0003],\n",
       "         [   5.9906,   -1.2870,    6.1944,  ...,  -13.5604,   13.2633,\n",
       "           -17.4597]], grad_fn=<AddmmBackward0>)}"
      ]
     },
     "execution_count": 34,
     "metadata": {},
     "output_type": "execute_result"
    }
   ],
   "source": [
    "# Apply transformation to whole graph and get the new in_dims\n",
    "new_g_fts = apply_transform(g)\n",
    "new_g_fts"
   ]
  },
  {
   "cell_type": "code",
   "execution_count": 35,
   "id": "2f23ac57",
   "metadata": {},
   "outputs": [],
   "source": [
    "with torch.no_grad(): \n",
    "    embeddings = model(g, new_g_fts)"
   ]
  },
  {
   "cell_type": "code",
   "execution_count": 36,
   "id": "08e79355",
   "metadata": {
    "scrolled": false
   },
   "outputs": [
    {
     "data": {
      "text/plain": [
       "{'customer': tensor([[-1481.7013, -1973.0471,  -648.9993,  ...,   473.2238,  1901.7328,\n",
       "             50.7098],\n",
       "         [  -27.7733,   -32.8630,    24.9695,  ...,    -8.5909,    18.8338,\n",
       "             39.1865],\n",
       "         [  787.2355,   983.8456, -6305.7485,  ...,  3080.0137, -2446.7754,\n",
       "          -1939.5363],\n",
       "         ...,\n",
       "         [ -188.9064,  -173.3874,   191.5622,  ...,   -15.9576,    43.2905,\n",
       "            191.5436],\n",
       "         [ -519.7206,   343.2340,   537.3835,  ...,  -296.0171,    87.5627,\n",
       "            259.0995],\n",
       "         [  -23.6525,  -311.8445,   -92.4059,  ...,    20.2786,   342.1154,\n",
       "            -43.2994]]),\n",
       " 'external': tensor([[ 1.6445e+02, -2.7517e+02,  2.5782e+02,  ...,  4.0220e+02,\n",
       "          -4.8828e+01,  3.3879e+02],\n",
       "         [ 2.3431e+02, -1.8187e+02,  4.3441e+02,  ...,  2.6884e+02,\n",
       "           3.5669e+01,  3.8500e+02],\n",
       "         [ 1.5340e+02, -2.5526e+02,  2.3894e+02,  ...,  3.7309e+02,\n",
       "          -4.5782e+01,  3.1584e+02],\n",
       "         ...,\n",
       "         [ 7.5306e+01, -4.1333e+00,  2.1593e+02,  ...,  6.8829e+01,\n",
       "           2.8253e+01,  8.8750e+01],\n",
       "         [ 3.0833e+00, -2.4597e-01,  1.4799e+00,  ...,  4.2321e+00,\n",
       "          -1.7242e+00,  7.7081e-01],\n",
       "         [ 2.2450e+01, -1.5256e+00,  5.8866e+01,  ...,  1.0351e+01,\n",
       "           8.4895e+00,  2.7563e+01]])}"
      ]
     },
     "execution_count": 36,
     "metadata": {},
     "output_type": "execute_result"
    }
   ],
   "source": [
    "# Show the embeddings\n",
    "embeddings"
   ]
  },
  {
   "cell_type": "code",
   "execution_count": 37,
   "id": "e2f7ce2c",
   "metadata": {},
   "outputs": [
    {
     "name": "stdout",
     "output_type": "stream",
     "text": [
      "Embeddings saved successfully.\n"
     ]
    }
   ],
   "source": [
    "# save the embeddings so that we can use it for clustering in another notebook\n",
    "torch.save(embeddings, 'embeddings.pt')\n",
    "print(\"Embeddings saved successfully.\")"
   ]
  },
  {
   "cell_type": "markdown",
   "id": "88bd05f4",
   "metadata": {},
   "source": [
    "# Limitations, Next Steps and Future Considerations"
   ]
  },
  {
   "cell_type": "markdown",
   "id": "7528b8ae",
   "metadata": {},
   "source": [
    "Due to constraints on time, we weren't able to test out many different types of convolutional layers as well as build a model that can incorporate edge features into its embeddings. Furthermore, after building our base model, we wanted to go back to re-implement feature selection through correlation analysis and feature importance, as well as add a feature normalization layer to the SAGEConv. \n",
    "\n",
    "Our next steps would be to work and fix areas we couldn't finish due to time constraints.\n",
    "\n",
    "For future considerations, we can consider swapping out the SAGEConv layer with other layers such as EGATConv, which is a Graph Attention Layer that can handle edge features. The Graph Isomorphism Network with Edge Features (GINEConv) is another convolutional layer we considered implementing that is able to distinguish between different graph structures. The last convolutional layer we considered was the Heterogeneous Graph Transformer convolution (HGTConv) which incorporates an attention mechanism inspired by the Transformer model. \n",
    "\n",
    "In addition, we can explore additional changes to our analysis process. Instead of clustering the nodes in the Transactions graph with Leiden Modularity, we can input the graph into a GNN to extract embeddings that can capture more information about the relationships. We can then cluster the nodes based on those embeddings and continue the community analysis and feature extraction for the customers graph. After retrieving the embedded outputs for the GNN that uses the customer graph as input, we can cluster the customer nodes in to subgraphs, then further implement another GNN to produce embeddings for these subgraphs, which we can then further cluster into communities of subgraphs. Once we have these communities, we can then analyze the communities of subgraphs to try and identify a community of illegal wildlife traffickers and those involved in the process. "
   ]
  },
  {
   "cell_type": "markdown",
   "id": "366310a6",
   "metadata": {},
   "source": [
    "# Final Notes"
   ]
  },
  {
   "cell_type": "markdown",
   "id": "47b02227",
   "metadata": {},
   "source": [
    "Overall, this project was a very great and fun opportunity to work with a large dataset to try and solve a complex real-world problem! We learned a lot about different types of graphs and machine learning methods that can be used on graphs, and how these methods can help us identify patterns in customer and transaction relationships.\n",
    "\n",
    "Thank you for taking the time to look through our project, and we hope that you found our project interesting! Finally, we hope that our project can help provide additional ideas on how to identify illegal wildlife trafficking networks so that we can implement additional corresponding measures to reduce wild-life related crime. "
   ]
  }
 ],
 "metadata": {
  "kernelspec": {
   "display_name": "Python 3 (ipykernel)",
   "language": "python",
   "name": "python3"
  },
  "language_info": {
   "codemirror_mode": {
    "name": "ipython",
    "version": 3
   },
   "file_extension": ".py",
   "mimetype": "text/x-python",
   "name": "python",
   "nbconvert_exporter": "python",
   "pygments_lexer": "ipython3",
   "version": "3.11.5"
  }
 },
 "nbformat": 4,
 "nbformat_minor": 5
}
