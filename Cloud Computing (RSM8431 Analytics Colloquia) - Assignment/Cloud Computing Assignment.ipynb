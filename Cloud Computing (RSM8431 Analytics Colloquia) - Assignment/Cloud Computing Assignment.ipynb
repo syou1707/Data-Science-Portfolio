{
 "cells": [
  {
   "cell_type": "code",
   "execution_count": 1,
   "id": "5b05f16e",
   "metadata": {},
   "outputs": [],
   "source": [
    "#!pip install pyspark"
   ]
  },
  {
   "cell_type": "code",
   "execution_count": 2,
   "id": "d9942603",
   "metadata": {},
   "outputs": [],
   "source": [
    "from pyspark.sql import SparkSession\n",
    "import os\n",
    "from pyspark.sql.types import StructType, StructField, StringType"
   ]
  },
  {
   "cell_type": "code",
   "execution_count": 3,
   "id": "68fabb24",
   "metadata": {},
   "outputs": [],
   "source": [
    "import pandas as pd"
   ]
  },
  {
   "cell_type": "code",
   "execution_count": 4,
   "id": "c0024943",
   "metadata": {},
   "outputs": [],
   "source": [
    "# Create a spark session\n",
    "spark = SparkSession.builder.getOrCreate()"
   ]
  },
  {
   "cell_type": "code",
   "execution_count": 29,
   "id": "d6c2ca47",
   "metadata": {},
   "outputs": [],
   "source": [
    "# Create an RDD for the pgn files\n",
    "text = spark.sparkContext.textFile(\"../Desktop/Data1/*.pgn\")"
   ]
  },
  {
   "cell_type": "code",
   "execution_count": 30,
   "id": "cf8df540",
   "metadata": {},
   "outputs": [
    {
     "data": {
      "text/plain": [
       "['[Event \"Rated Classical game\"]',\n",
       " '[Site \"https://lichess.org/j1dkb5dw\"]',\n",
       " '[White \"BFG9k\"]',\n",
       " '[Black \"mamalak\"]',\n",
       " '[Result \"1-0\"]',\n",
       " '[UTCDate \"2012.12.31\"]',\n",
       " '[UTCTime \"23:01:03\"]',\n",
       " '[WhiteElo \"1639\"]',\n",
       " '[BlackElo \"1403\"]',\n",
       " '[WhiteRatingDiff \"+5\"]',\n",
       " '[BlackRatingDiff \"-8\"]',\n",
       " '[ECO \"C00\"]',\n",
       " '[Opening \"French Defense: Normal Variation\"]',\n",
       " '[TimeControl \"600+8\"]',\n",
       " '[Termination \"Normal\"]',\n",
       " '',\n",
       " '1. e4 e6 2. d4 b6 3. a3 Bb7 4. Nc3 Nh6 5. Bxh6 gxh6 6. Be2 Qg5 7. Bg4 h5 8. Nf3 Qg6 9. Nh4 Qg5 10. Bxh5 Qxh4 11. Qf3 Kd8 12. Qxf7 Nc6 13. Qe8# 1-0',\n",
       " '',\n",
       " '[Event \"Rated Classical game\"]',\n",
       " '[Site \"https://lichess.org/a9tcp02g\"]']"
      ]
     },
     "execution_count": 30,
     "metadata": {},
     "output_type": "execute_result"
    }
   ],
   "source": [
    "# Show the first 20 elements of the RDD\n",
    "text.take(20)"
   ]
  },
  {
   "cell_type": "code",
   "execution_count": 7,
   "id": "2bfb2023",
   "metadata": {},
   "outputs": [
    {
     "data": {
      "text/plain": [
       "131101223"
      ]
     },
     "execution_count": 7,
     "metadata": {},
     "output_type": "execute_result"
    }
   ],
   "source": [
    "# Count the number of elements in the RDD\n",
    "text.count()"
   ]
  },
  {
   "cell_type": "code",
   "execution_count": 8,
   "id": "d2bedde1",
   "metadata": {
    "scrolled": true
   },
   "outputs": [
    {
     "data": {
      "text/plain": [
       "189"
      ]
     },
     "execution_count": 8,
     "metadata": {},
     "output_type": "execute_result"
    }
   ],
   "source": [
    "# Show the number of partitions\n",
    "text.getNumPartitions()"
   ]
  },
  {
   "cell_type": "code",
   "execution_count": 9,
   "id": "a109c46e",
   "metadata": {},
   "outputs": [],
   "source": [
    "# Filter out elements that are empty and do not start with \"[\"\n",
    "text = text.filter(lambda x: len(x) > 0)\n",
    "text = text.filter(lambda x: x[0] == '[')"
   ]
  },
  {
   "cell_type": "code",
   "execution_count": 10,
   "id": "401352b2",
   "metadata": {},
   "outputs": [],
   "source": [
    "# Remove the \"[]\" from the start and end of each element\n",
    "text = text.map(lambda x: x[1:-1])"
   ]
  },
  {
   "cell_type": "code",
   "execution_count": 31,
   "id": "a5be4fed",
   "metadata": {},
   "outputs": [],
   "source": [
    "# Split the elements into a list seperated by the spaces\n",
    "text = text.map(lambda x: x.split(\" \"))"
   ]
  },
  {
   "cell_type": "code",
   "execution_count": 12,
   "id": "622847a8",
   "metadata": {},
   "outputs": [],
   "source": [
    "# Create a list for the words we want to keep\n",
    "variables = ['WhiteElo', 'BlackElo', 'TimeControl', 'Result']\n",
    "text = text.filter(lambda x: x[0] in variables)"
   ]
  },
  {
   "cell_type": "code",
   "execution_count": 13,
   "id": "771f5418",
   "metadata": {},
   "outputs": [],
   "source": [
    "# Remove the double quotes from the second element\n",
    "text = text.map(lambda x: [x[0], x[1].replace('\"', '')])"
   ]
  },
  {
   "cell_type": "code",
   "execution_count": 14,
   "id": "3aea0e03",
   "metadata": {},
   "outputs": [],
   "source": [
    "# Select the elements that only have the results\n",
    "results_only = text.filter(lambda x: x[0] == 'Result')\n",
    "other_text = text.filter(lambda x: x[0] != 'Result')"
   ]
  },
  {
   "cell_type": "code",
   "execution_count": 15,
   "id": "415b2754",
   "metadata": {},
   "outputs": [],
   "source": [
    "# Map the results to the correct 1 digit result\n",
    "results_map = {'1-0': 1, '0-1': -1, '1/2-1/2': 0}\n",
    "results_only = results_only.map(lambda x: [x[0], results_map[x[1]]])"
   ]
  },
  {
   "cell_type": "code",
   "execution_count": 16,
   "id": "de2fe0d1",
   "metadata": {},
   "outputs": [],
   "source": [
    "# Group the elements by key\n",
    "r_group = results_only.groupByKey().mapValues(list)\n",
    "other_grouped = other_text.groupByKey().mapValues(list)"
   ]
  },
  {
   "cell_type": "code",
   "execution_count": 17,
   "id": "f115206b",
   "metadata": {},
   "outputs": [],
   "source": [
    "# Get the first four grouped elements\n",
    "results = other_grouped.take(3)"
   ]
  },
  {
   "cell_type": "code",
   "execution_count": 18,
   "id": "a221b182",
   "metadata": {},
   "outputs": [],
   "source": [
    "# Create variables to store the list of values for each columns\n",
    "black_rating = results[1][1]\n",
    "white_rating = results[2][1]\n",
    "time_control = results[0][1]\n",
    "result = r_group.take(1)[0][1]"
   ]
  },
  {
   "cell_type": "code",
   "execution_count": 19,
   "id": "0b83a6cf",
   "metadata": {},
   "outputs": [],
   "source": [
    "# Create a list of tuples representing the data\n",
    "data = list(zip(black_rating, white_rating, time_control, result))"
   ]
  },
  {
   "cell_type": "code",
   "execution_count": 20,
   "id": "f4aef04b",
   "metadata": {},
   "outputs": [],
   "source": [
    "# Define the schema for the DataFrame\n",
    "schema = StructType([\n",
    "    StructField(\"black_rating\", StringType(), True),\n",
    "    StructField(\"white_rating\", StringType(), True),\n",
    "    StructField(\"time_control\", StringType(), True),\n",
    "    StructField(\"result\", StringType(), True)\n",
    "])"
   ]
  },
  {
   "cell_type": "code",
   "execution_count": 21,
   "id": "325260f8",
   "metadata": {},
   "outputs": [],
   "source": [
    "# Create a pyspark dataframe\n",
    "df = spark.createDataFrame(data, schema)"
   ]
  },
  {
   "cell_type": "code",
   "execution_count": 22,
   "id": "08a6083d",
   "metadata": {
    "scrolled": false
   },
   "outputs": [
    {
     "name": "stdout",
     "output_type": "stream",
     "text": [
      "+------------+------------+------------+------+\n",
      "|black_rating|white_rating|time_control|result|\n",
      "+------------+------------+------------+------+\n",
      "|        1403|        1639|       600+8|     1|\n",
      "|        1919|        1654|       480+2|     1|\n",
      "|        1747|        1643|      420+17|     1|\n",
      "|        1973|        1824|        60+1|    -1|\n",
      "|        1815|        1765|        60+1|    -1|\n",
      "|        1487|        1477|       300+3|     1|\n",
      "|        1500|        1541|       300+0|    -1|\n",
      "|        1752|        1765|       540+0|     1|\n",
      "|        1169|        1445|       900+0|     1|\n",
      "|        1428|        1522|       180+5|    -1|\n",
      "|        1544|        1644|       600+8|    -1|\n",
      "|        1755|        1957|       300+8|    -1|\n",
      "|        1812|        1656|      420+17|     1|\n",
      "|        1506|        1436|       420+0|     1|\n",
      "|        1940|        1878|       300+0|     0|\n",
      "|        1775|        1742|       540+0|    -1|\n",
      "|        1811|        1824|       360+6|     1|\n",
      "|        1395|        1653|      1200+0|     1|\n",
      "|        1673|        1897|       480+2|     1|\n",
      "|        1451|        1492|       420+0|     1|\n",
      "+------------+------------+------------+------+\n",
      "only showing top 20 rows\n",
      "\n"
     ]
    }
   ],
   "source": [
    "# Show the resulting dataframe\n",
    "df.show()"
   ]
  },
  {
   "cell_type": "code",
   "execution_count": 23,
   "id": "ff68eccd",
   "metadata": {},
   "outputs": [],
   "source": [
    "# Save the dataframe to a parquet file\n",
    "df.write.parquet('../Desktop/results.parquet')"
   ]
  },
  {
   "cell_type": "code",
   "execution_count": 24,
   "id": "18f25df9",
   "metadata": {},
   "outputs": [],
   "source": [
    "# Check to see if you can read the parquet file\n",
    "parquetfile = spark.read.parquet('../Desktop/results.parquet')"
   ]
  },
  {
   "cell_type": "code",
   "execution_count": 25,
   "id": "d37ee665",
   "metadata": {},
   "outputs": [
    {
     "name": "stdout",
     "output_type": "stream",
     "text": [
      "+------------+------------+------------+------+\n",
      "|black_rating|white_rating|time_control|result|\n",
      "+------------+------------+------------+------+\n",
      "|        1436|         884|           -|    -1|\n",
      "|        1742|        1606|       240+3|     1|\n",
      "|        1481|        1624|       120+0|     1|\n",
      "|        1330|        1582|       300+0|     1|\n",
      "|        1780|        1758|       180+0|    -1|\n",
      "|        1482|        1669|       300+1|     1|\n",
      "|        1823|        1413|       480+8|    -1|\n",
      "|        1591|        1366|    9000+180|    -1|\n",
      "|         887|        1434|           -|     1|\n",
      "|        1269|        1073|       600+5|    -1|\n",
      "|        1853|        1982|        60+1|     1|\n",
      "|        1666|        1754|         0+2|    -1|\n",
      "|        1692|        1832|         0+1|     1|\n",
      "|        1611|        1500|       300+8|     1|\n",
      "|        1730|        1701|       120+0|     1|\n",
      "|        1566|        1601|       120+0|    -1|\n",
      "|        1443|         874|           -|    -1|\n",
      "|        1826|        1835|       300+8|     1|\n",
      "|         881|        1438|           -|     1|\n",
      "|        1946|        2068|       300+0|     1|\n",
      "+------------+------------+------------+------+\n",
      "only showing top 20 rows\n",
      "\n"
     ]
    }
   ],
   "source": [
    "parquetfile.show()"
   ]
  }
 ],
 "metadata": {
  "kernelspec": {
   "display_name": "Python 3",
   "language": "python",
   "name": "python3"
  },
  "language_info": {
   "codemirror_mode": {
    "name": "ipython",
    "version": 3
   },
   "file_extension": ".py",
   "mimetype": "text/x-python",
   "name": "python",
   "nbconvert_exporter": "python",
   "pygments_lexer": "ipython3",
   "version": "3.8.8"
  }
 },
 "nbformat": 4,
 "nbformat_minor": 5
}
